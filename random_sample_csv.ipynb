{
 "cells": [
  {
   "cell_type": "code",
   "execution_count": 16,
   "metadata": {
    "collapsed": true
   },
   "outputs": [],
   "source": [
    "import json \n",
    "import pandas as pd\n",
    "import re\n",
    "import nltk\n",
    "from nltk.tokenize import sent_tokenize\n",
    "import csv"
   ]
  },
  {
   "cell_type": "code",
   "execution_count": 2,
   "metadata": {
    "collapsed": true
   },
   "outputs": [],
   "source": [
    "# load in json dictionary\n",
    "with open('2017-07-07-09-29_combined_support_forum_data.json') as json_data:\n",
    "    d = json.load(json_data)"
   ]
  },
  {
   "cell_type": "code",
   "execution_count": 14,
   "metadata": {
    "collapsed": true
   },
   "outputs": [],
   "source": [
    "df = pd.DataFrame.from_items(d.iteritems()).transpose()"
   ]
  },
  {
   "cell_type": "code",
   "execution_count": 7,
   "metadata": {},
   "outputs": [
    {
     "name": "stdout",
     "output_type": "stream",
     "text": [
      "total number of answered vpn cases:\n",
      "4848\n"
     ]
    }
   ],
   "source": [
    "vpn_probs = df[(df['topic']=='VPN') & (df['correctly_answered']== True)]\n",
    "final = vpn_probs['original_post']\n",
    "print(\"total number of answered vpn cases:\")\n",
    "print(len(final))"
   ]
  },
  {
   "cell_type": "code",
   "execution_count": 24,
   "metadata": {
    "collapsed": true,
    "scrolled": true
   },
   "outputs": [],
   "source": [
    "#truncates dates into just years\n",
    "#loc = safe way to access vpn_probs['created']\n",
    "#.astype(str) = changes the type of data to string\n",
    "#.apply(lambda x: x[0:4]) = only keeps the first four numbers of the date for the year\n",
    "vpn_probs['created'] = vpn_probs.loc[:,('created')].astype(str).apply(lambda x: x[0:4])"
   ]
  },
  {
   "cell_type": "code",
   "execution_count": 26,
   "metadata": {},
   "outputs": [
    {
     "data": {
      "text/html": [
       "<div>\n",
       "<style>\n",
       "    .dataframe thead tr:only-child th {\n",
       "        text-align: right;\n",
       "    }\n",
       "\n",
       "    .dataframe thead th {\n",
       "        text-align: left;\n",
       "    }\n",
       "\n",
       "    .dataframe tbody tr th {\n",
       "        vertical-align: top;\n",
       "    }\n",
       "</style>\n",
       "<table border=\"1\" class=\"dataframe\">\n",
       "  <thead>\n",
       "    <tr style=\"text-align: right;\">\n",
       "      <th></th>\n",
       "      <th>asker_id</th>\n",
       "      <th>comment_progression</th>\n",
       "      <th>comments</th>\n",
       "      <th>correct_answer_index</th>\n",
       "      <th>correctly_answered</th>\n",
       "      <th>created</th>\n",
       "      <th>discussion_id</th>\n",
       "      <th>has_tags</th>\n",
       "      <th>num_comments</th>\n",
       "      <th>original_post</th>\n",
       "      <th>tags</th>\n",
       "      <th>title</th>\n",
       "      <th>topic</th>\n",
       "      <th>url</th>\n",
       "      <th>user_id</th>\n",
       "    </tr>\n",
       "  </thead>\n",
       "  <tbody>\n",
       "    <tr>\n",
       "      <th>270</th>\n",
       "      <td>blv@greensfelder.com</td>\n",
       "      <td>[user1, user2]</td>\n",
       "      <td>[Hi Brad, Yes you can do it. It should work fi...</td>\n",
       "      <td>[0]</td>\n",
       "      <td>True</td>\n",
       "      <td>2016</td>\n",
       "      <td>13053256</td>\n",
       "      <td>False</td>\n",
       "      <td>2</td>\n",
       "      <td>I currently have anASA 5525 that I use for gen...</td>\n",
       "      <td>[]</td>\n",
       "      <td>Can I run a dedicated VPN ASA?</td>\n",
       "      <td>VPN</td>\n",
       "      <td>https://supportforums.cisco.com/discussion/130...</td>\n",
       "      <td>2175441</td>\n",
       "    </tr>\n",
       "    <tr>\n",
       "      <th>836</th>\n",
       "      <td>Mokhalil82</td>\n",
       "      <td>[user1, asker, user2, asker, user1, asker, use...</td>\n",
       "      <td>[Hi Mokhalil82, It is quite weird that the ASA...</td>\n",
       "      <td>[6, 9]</td>\n",
       "      <td>True</td>\n",
       "      <td>2016</td>\n",
       "      <td>12926871</td>\n",
       "      <td>False</td>\n",
       "      <td>15</td>\n",
       "      <td></td>\n",
       "      <td>[]</td>\n",
       "      <td>Cisco ASA VPN Issue</td>\n",
       "      <td>VPN</td>\n",
       "      <td>https://supportforums.cisco.com/discussion/129...</td>\n",
       "      <td>3878716</td>\n",
       "    </tr>\n",
       "    <tr>\n",
       "      <th>834</th>\n",
       "      <td>jsmick202</td>\n",
       "      <td>[user1, user2, user3]</td>\n",
       "      <td>[Change: split-tunnel-policy excludespecified ...</td>\n",
       "      <td>[0]</td>\n",
       "      <td>True</td>\n",
       "      <td>2016</td>\n",
       "      <td>12927076</td>\n",
       "      <td>False</td>\n",
       "      <td>3</td>\n",
       "      <td>I'm working on a home lab setup with my 5506-X...</td>\n",
       "      <td>[]</td>\n",
       "      <td>Split Tunneling Not Working</td>\n",
       "      <td>VPN</td>\n",
       "      <td>https://supportforums.cisco.com/discussion/129...</td>\n",
       "      <td>3320676</td>\n",
       "    </tr>\n",
       "    <tr>\n",
       "      <th>839</th>\n",
       "      <td>baskervi</td>\n",
       "      <td>[user1, asker, user1, asker, user1, asker, use...</td>\n",
       "      <td>[Hi Please review the following document and t...</td>\n",
       "      <td>[4, 6]</td>\n",
       "      <td>True</td>\n",
       "      <td>2016</td>\n",
       "      <td>12925706</td>\n",
       "      <td>True</td>\n",
       "      <td>8</td>\n",
       "      <td>I have a customer with an older PIX-515e firew...</td>\n",
       "      <td>l2tp over IPsec</td>\n",
       "      <td>Problem authenticating users on L2TP over IPSe...</td>\n",
       "      <td>VPN</td>\n",
       "      <td>https://supportforums.cisco.com/discussion/129...</td>\n",
       "      <td>3225326</td>\n",
       "    </tr>\n",
       "    <tr>\n",
       "      <th>1444</th>\n",
       "      <td>RolandoValenzuela</td>\n",
       "      <td>[user1, user2, user1, user2, user2, user1, use...</td>\n",
       "      <td>[Hi Rolando, Can you please explain what are y...</td>\n",
       "      <td>[0]</td>\n",
       "      <td>True</td>\n",
       "      <td>2015</td>\n",
       "      <td>12700231</td>\n",
       "      <td>False</td>\n",
       "      <td>9</td>\n",
       "      <td>Hello Community! I was trying to apply some co...</td>\n",
       "      <td>[]</td>\n",
       "      <td>Secure Desktop replacement</td>\n",
       "      <td>VPN</td>\n",
       "      <td>https://supportforums.cisco.com/discussion/127...</td>\n",
       "      <td>3325541</td>\n",
       "    </tr>\n",
       "  </tbody>\n",
       "</table>\n",
       "</div>"
      ],
      "text/plain": [
       "                  asker_id                                comment_progression  \\\n",
       "270   blv@greensfelder.com                                     [user1, user2]   \n",
       "836             Mokhalil82  [user1, asker, user2, asker, user1, asker, use...   \n",
       "834              jsmick202                              [user1, user2, user3]   \n",
       "839               baskervi  [user1, asker, user1, asker, user1, asker, use...   \n",
       "1444     RolandoValenzuela  [user1, user2, user1, user2, user2, user1, use...   \n",
       "\n",
       "                                               comments correct_answer_index  \\\n",
       "270   [Hi Brad, Yes you can do it. It should work fi...                  [0]   \n",
       "836   [Hi Mokhalil82, It is quite weird that the ASA...               [6, 9]   \n",
       "834   [Change: split-tunnel-policy excludespecified ...                  [0]   \n",
       "839   [Hi Please review the following document and t...               [4, 6]   \n",
       "1444  [Hi Rolando, Can you please explain what are y...                  [0]   \n",
       "\n",
       "     correctly_answered created discussion_id has_tags num_comments  \\\n",
       "270                True    2016      13053256    False            2   \n",
       "836                True    2016      12926871    False           15   \n",
       "834                True    2016      12927076    False            3   \n",
       "839                True    2016      12925706     True            8   \n",
       "1444               True    2015      12700231    False            9   \n",
       "\n",
       "                                          original_post             tags  \\\n",
       "270   I currently have anASA 5525 that I use for gen...               []   \n",
       "836                                                                   []   \n",
       "834   I'm working on a home lab setup with my 5506-X...               []   \n",
       "839   I have a customer with an older PIX-515e firew...  l2tp over IPsec   \n",
       "1444  Hello Community! I was trying to apply some co...               []   \n",
       "\n",
       "                                                  title topic  \\\n",
       "270                      Can I run a dedicated VPN ASA?   VPN   \n",
       "836                                 Cisco ASA VPN Issue   VPN   \n",
       "834                         Split Tunneling Not Working   VPN   \n",
       "839   Problem authenticating users on L2TP over IPSe...   VPN   \n",
       "1444                         Secure Desktop replacement   VPN   \n",
       "\n",
       "                                                    url  user_id  \n",
       "270   https://supportforums.cisco.com/discussion/130...  2175441  \n",
       "836   https://supportforums.cisco.com/discussion/129...  3878716  \n",
       "834   https://supportforums.cisco.com/discussion/129...  3320676  \n",
       "839   https://supportforums.cisco.com/discussion/129...  3225326  \n",
       "1444  https://supportforums.cisco.com/discussion/127...  3325541  "
      ]
     },
     "execution_count": 26,
     "metadata": {},
     "output_type": "execute_result"
    }
   ],
   "source": [
    "vpn_probs[:5]"
   ]
  },
  {
   "cell_type": "code",
   "execution_count": 25,
   "metadata": {
    "collapsed": true
   },
   "outputs": [],
   "source": [
    "#drops all post from before 2015\n",
    "vpn_probs = vpn_probs[vpn_probs['created'].astype(int) >=2015]\n",
    "#takes random sampling of 200 post\n",
    "rand = vpn_probs.sample(n=200)"
   ]
  },
  {
   "cell_type": "code",
   "execution_count": 19,
   "metadata": {
    "collapsed": true
   },
   "outputs": [],
   "source": [
    "#keeps date created, original post, title and url\n",
    "rand = rand.drop(df.columns[[0,1,2,3,4,6,7,8,10,12,14]], axis = 1)"
   ]
  },
  {
   "cell_type": "code",
   "execution_count": 22,
   "metadata": {
    "collapsed": true
   },
   "outputs": [],
   "source": [
    "#exports to csv other fields are for formatting\n",
    "rand.to_csv('sample.csv',sep='\\t', encoding='utf-8')"
   ]
  }
 ],
 "metadata": {
  "kernelspec": {
   "display_name": "Python 2",
   "language": "python",
   "name": "python2"
  },
  "language_info": {
   "codemirror_mode": {
    "name": "ipython",
    "version": 2
   },
   "file_extension": ".py",
   "mimetype": "text/x-python",
   "name": "python",
   "nbconvert_exporter": "python",
   "pygments_lexer": "ipython2",
   "version": "2.7.14"
  }
 },
 "nbformat": 4,
 "nbformat_minor": 2
}
