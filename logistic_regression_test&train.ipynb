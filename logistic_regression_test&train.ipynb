{
 "cells": [
  {
   "cell_type": "code",
   "execution_count": 1,
   "metadata": {
    "collapsed": true
   },
   "outputs": [],
   "source": [
    "#readme\n",
    "#this file splits into testing and training"
   ]
  },
  {
   "cell_type": "code",
   "execution_count": 2,
   "metadata": {
    "collapsed": true
   },
   "outputs": [],
   "source": [
    "#read in csv file\n",
    "import csv\n",
    "#vectorizes data.csv\n",
    "from sklearn.feature_extraction.text import TfidfVectorizer\n",
    "#used for dataframes\n",
    "import pandas as pd\n",
    "#used for splitting\n",
    "from sklearn.model_selection import train_test_split\n",
    "#used to perform logistic regression\n",
    "from sklearn.linear_model import LogisticRegression\n",
    "#used for logistic regression metrics\n",
    "from sklearn.metrics import classification_report\n",
    "from sklearn import model_selection\n",
    "from sklearn.metrics import confusion_matrix\n",
    "from sklearn.model_selection import StratifiedKFold\n",
    "from sklearn.model_selection import cross_val_predict"
   ]
  },
  {
   "cell_type": "markdown",
   "metadata": {},
   "source": [
    "# Data Frame Creation"
   ]
  },
  {
   "cell_type": "code",
   "execution_count": 3,
   "metadata": {
    "collapsed": true
   },
   "outputs": [],
   "source": [
    "#reads in \n",
    "df = pd.read_csv('UCSC Dataset 3 Final - Sheet1_clean.csv', encoding='utf-8')"
   ]
  },
  {
   "cell_type": "markdown",
   "metadata": {},
   "source": [
    "# Creates Training and Testing sets"
   ]
  },
  {
   "cell_type": "markdown",
   "metadata": {},
   "source": [
    "## Represents with TF-IDF"
   ]
  },
  {
   "cell_type": "code",
   "execution_count": 4,
   "metadata": {
    "collapsed": true
   },
   "outputs": [],
   "source": [
    "#Current implementation \n",
    "#splits and then runs tf-idf\n",
    "\n",
    "#used http://scikit-learn.org/stable/modules/generated/sklearn.model_selection.train_test_split.html\n",
    "#split train set into \n",
    "train, test = train_test_split(df, test_size = .1)\n",
    "\n",
    "\n",
    "tfidf = TfidfVectorizer(min_df = 2)\n",
    "#uses vectorizer to perform fit_transform\n",
    "train_tfs = tfidf.fit_transform(train['original_post'].values.astype('U'))\n",
    "#transforms to fit the vocabulary of the training set\n",
    "test_tfs = tfidf.transform(test['original_post'])\n",
    "whole_tfs = tfidf.fit_transform(df['original_post'])\n",
    "\n",
    "#creates a list of 180 values correlated to the training set\n",
    "num_list_train = train['VPN #'].values\n",
    "#creates a list of 20 values correlated to the test set\n",
    "num_list_test = test['VPN #'].values\n",
    "num_list_whole = df['VPN #'].values"
   ]
  },
  {
   "cell_type": "code",
   "execution_count": 5,
   "metadata": {},
   "outputs": [
    {
     "name": "stdout",
     "output_type": "stream",
     "text": [
      "3    136\n",
      "2     25\n",
      "0     17\n",
      "4     16\n",
      "1      6\n",
      "Name: VPN #, dtype: int64\n",
      "(180, 1468)\n"
     ]
    }
   ],
   "source": [
    "print(df['VPN #'].value_counts())\n",
    "print(train_tfs.shape)"
   ]
  },
  {
   "cell_type": "markdown",
   "metadata": {},
   "source": [
    "# Implements Logistic Regression"
   ]
  },
  {
   "cell_type": "code",
   "execution_count": 6,
   "metadata": {},
   "outputs": [
    {
     "data": {
      "text/plain": [
       "LogisticRegression(C=1, class_weight='balanced', dual=False,\n",
       "          fit_intercept=True, intercept_scaling=1, max_iter=100,\n",
       "          multi_class='multinomial', n_jobs=1, penalty='l2',\n",
       "          random_state=None, solver='newton-cg', tol=0.0001, verbose=0,\n",
       "          warm_start=False)"
      ]
     },
     "execution_count": 6,
     "metadata": {},
     "output_type": "execute_result"
    }
   ],
   "source": [
    "#sets up instance of logistic regression\n",
    "logistic = LogisticRegression(C=1, solver = 'newton-cg', multi_class = 'multinomial', class_weight = 'balanced')\n",
    "#feeds in (matrix, corresponding classificaiton value)\n",
    "logistic.fit(train_tfs,num_list_train)"
   ]
  },
  {
   "cell_type": "markdown",
   "metadata": {},
   "source": [
    "# Stratified K-Folds"
   ]
  },
  {
   "cell_type": "code",
   "execution_count": 7,
   "metadata": {
    "collapsed": true
   },
   "outputs": [],
   "source": [
    "def metrics():\n",
    "    \"\"\"\n",
    "    STRATIFIED\n",
    "    Prints out metrics for performace of: \n",
    "        Logistic Regression Classification Accuracy\n",
    "        Logistic Regression Metrics\n",
    "        \n",
    "    taken from here\n",
    "    https://machinelearningmastery.com/metrics-evaluate-machine-learning-algorithms-python/\n",
    "    \"\"\"\n",
    "    \n",
    "    #stratified cross validation\n",
    "    skf = StratifiedKFold(n_splits=6)\n",
    "    skf.get_n_splits(whole_tfs,num_list_whole)\n",
    "    print(skf)\n",
    "    \n",
    "\n",
    "    print(\"Logistic Regression Classification Accuracy:\")\n",
    "\n",
    "    #accuracy\n",
    "    results = model_selection.cross_val_score(logistic, whole_tfs,num_list_whole, cv=skf, scoring='accuracy')\n",
    "    print(\"Accuracy: %.3f (%.3f)\\n\") % (results.mean(), results.std())\n",
    "\n",
    "    #confusion matrix\n",
    "    y_pred = cross_val_predict(logistic,whole_tfs,num_list_whole,cv=skf)\n",
    "    conf_mat = confusion_matrix(num_list_whole ,y_pred)\n",
    "    print(\"Confusion Matrix:\\n%s\\n\"%conf_mat)\n",
    "\n",
    "    #classification report\n",
    "    y_pred = cross_val_predict(logistic,whole_tfs,num_list_whole,cv=skf)\n",
    "    report = classification_report(num_list_whole, y_pred)\n",
    "    print(\"Classification Report:\\n%s\\n\"%report)\n",
    "\n",
    "    print(\"Logistic Regression Metrics:\\nmetric: mean (standard deviation)\\n\")\n",
    "    #MAE (Mean Absolute Error)\n",
    "    results = model_selection.cross_val_score(logistic, whole_tfs,num_list_whole, cv=skf, scoring='neg_mean_absolute_error')\n",
    "    print(\"MAE (Mean Absolute Error): %.3f (%.3f)\") % (results.mean(), results.std())\n",
    "\n",
    "    #MSE (Mean Squared Error)\n",
    "    results = model_selection.cross_val_score(logistic, whole_tfs,num_list_whole, cv=skf, scoring='neg_mean_squared_error')\n",
    "    print(\"MSE (Mean Squared Error): %.3f (%.3f)\") % (results.mean(), results.std())\n",
    "\n",
    "    #R^2\n",
    "    results = model_selection.cross_val_score(logistic, whole_tfs,num_list_whole, cv=skf, scoring='r2')\n",
    "    print(\"R^2: %.3f (%.3f)\\n\") % (results.mean(), results.std())\n",
    "    \n",
    "   "
   ]
  },
  {
   "cell_type": "code",
   "execution_count": 8,
   "metadata": {},
   "outputs": [
    {
     "name": "stdout",
     "output_type": "stream",
     "text": [
      "StratifiedKFold(n_splits=6, random_state=None, shuffle=False)\n",
      "SVM Classification Accuracy:\n",
      "Accuracy: 0.696 (0.030)\n",
      "\n",
      "Confusion Matrix:\n",
      "[[  2   0   4  11   0]\n",
      " [  1   0   1   4   0]\n",
      " [  3   0  11  10   1]\n",
      " [  6   2   4 122   2]\n",
      " [  0   0   2  10   4]]\n",
      "\n",
      "Classification Report:\n",
      "             precision    recall  f1-score   support\n",
      "\n",
      "          0       0.17      0.12      0.14        17\n",
      "          1       0.00      0.00      0.00         6\n",
      "          2       0.50      0.44      0.47        25\n",
      "          3       0.78      0.90      0.83       136\n",
      "          4       0.57      0.25      0.35        16\n",
      "\n",
      "avg / total       0.65      0.69      0.66       200\n",
      "\n",
      "\n",
      "Logistic Regression Metrics:\n",
      "metric: mean (standard deviation)\n",
      "\n",
      "MAE (Mean Absolute Error): -0.555 (0.062)\n",
      "MSE (Mean Squared Error): -1.226 (0.208)\n",
      "R^2: -0.279 (0.181)\n",
      "\n"
     ]
    }
   ],
   "source": [
    "#stratified\n",
    "metrics()"
   ]
  }
 ],
 "metadata": {
  "kernelspec": {
   "display_name": "Python 2",
   "language": "python",
   "name": "python2"
  },
  "language_info": {
   "codemirror_mode": {
    "name": "ipython",
    "version": 2
   },
   "file_extension": ".py",
   "mimetype": "text/x-python",
   "name": "python",
   "nbconvert_exporter": "python",
   "pygments_lexer": "ipython2",
   "version": "2.7.14"
  }
 },
 "nbformat": 4,
 "nbformat_minor": 2
}
